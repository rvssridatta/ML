{
  "nbformat": 4,
  "nbformat_minor": 0,
  "metadata": {
    "colab": {
      "name": "22_MovieRecommedSVD.ipynb",
      "provenance": [],
      "collapsed_sections": [],
      "authorship_tag": "ABX9TyOIycf1+Q/1zjk0UQ/WNJdW",
      "include_colab_link": true
    },
    "kernelspec": {
      "name": "python3",
      "display_name": "Python 3"
    },
    "language_info": {
      "name": "python"
    }
  },
  "cells": [
    {
      "cell_type": "markdown",
      "metadata": {
        "id": "view-in-github",
        "colab_type": "text"
      },
      "source": [
        "<a href=\"https://colab.research.google.com/github/rvssridatta/ML/blob/main/22_MovieRecommedSVD/22_MovieRecommedSVD.ipynb\" target=\"_parent\"><img src=\"https://colab.research.google.com/assets/colab-badge.svg\" alt=\"Open In Colab\"/></a>"
      ]
    },
    {
      "cell_type": "code",
      "execution_count": 22,
      "metadata": {
        "id": "5So9MTiTOUXt"
      },
      "outputs": [],
      "source": [
        "import numpy as np\n",
        "import pandas as pd\n"
      ]
    },
    {
      "cell_type": "code",
      "source": [
        "#importing and parsing the dataset as ratings and movies details\n",
        "\n",
        "ratingData = pd.io.parsers.read_csv('ratings.dat', names = ['user_id','movie_id','rating','time'],\n",
        "                                    engine = 'python',delimiter = '::')\n",
        "movieData = pd.io.parsers.read_csv('movies.dat',names = ['movie_id','title','genre'],engine = 'python',delimiter ='::',encoding='latin-1')\n",
        "#print(movieData)"
      ],
      "metadata": {
        "id": "eRDo7U6iOltd"
      },
      "execution_count": 23,
      "outputs": []
    },
    {
      "cell_type": "code",
      "source": [
        "#rating matrix creation\n",
        "ratingMatrix = np.ndarray(shape = (np.max(ratingData.movie_id.values),np.max(ratingData.user_id.values)),\n",
        "                          dtype = np.uint8)\n",
        "ratingMatrix[ratingData.movie_id.values -1,ratingData.user_id.values-1] = ratingData.rating.values\n",
        "print(ratingMatrix)"
      ],
      "metadata": {
        "colab": {
          "base_uri": "https://localhost:8080/"
        },
        "id": "KNDcNNt7RKxg",
        "outputId": "eb5ddc5b-0ab5-42cf-9310-8d42d3925bbe"
      },
      "execution_count": 24,
      "outputs": [
        {
          "output_type": "stream",
          "name": "stdout",
          "text": [
            "[[ 5  0  0 ...  0  0  3]\n",
            " [ 9  0  0 ...  0  0  0]\n",
            " [15  0  0 ...  0  0  0]\n",
            " ...\n",
            " [ 0  0  0 ...  0  0  0]\n",
            " [ 0  0  0 ...  0  0  0]\n",
            " [ 0  0  0 ...  0  0  0]]\n"
          ]
        }
      ]
    },
    {
      "cell_type": "code",
      "source": [
        "#normalization SUBTRACT MEANOFF - NORMALIZATION\n",
        "\n",
        "normalizedMatrix = ratingMatrix - np.asarray([(np.mean(ratingMatrix,1))]).T\n",
        "print(normalizedMatrix)"
      ],
      "metadata": {
        "colab": {
          "base_uri": "https://localhost:8080/"
        },
        "id": "1V0jH6V6VGzF",
        "outputId": "5754c889-9e2e-498d-c119-f7ad6648570e"
      },
      "execution_count": 25,
      "outputs": [
        {
          "output_type": "stream",
          "name": "stdout",
          "text": [
            "[[ 3.16804636 -1.83195364 -1.83195364 ... -1.83195364 -1.83195364\n",
            "   1.16804636]\n",
            " [ 7.39884106 -1.60115894 -1.60115894 ... -1.60115894 -1.60115894\n",
            "  -1.60115894]\n",
            " [12.82301325 -2.17698675 -2.17698675 ... -2.17698675 -2.17698675\n",
            "  -2.17698675]\n",
            " ...\n",
            " [-0.03278146 -0.03278146 -0.03278146 ... -0.03278146 -0.03278146\n",
            "  -0.03278146]\n",
            " [-0.02582781 -0.02582781 -0.02582781 ... -0.02582781 -0.02582781\n",
            "  -0.02582781]\n",
            " [-0.24288079 -0.24288079 -0.24288079 ... -0.24288079 -0.24288079\n",
            "  -0.24288079]]\n"
          ]
        }
      ]
    },
    {
      "cell_type": "code",
      "source": [
        "#computing SVD\n",
        "\n",
        "A = normalizedMatrix.T/np.sqrt(ratingMatrix.shape[0]-1)\n",
        "U,S,V = np.linalg.svd(A)"
      ],
      "metadata": {
        "id": "J3XGCcSTX9ym"
      },
      "execution_count": 26,
      "outputs": []
    },
    {
      "cell_type": "code",
      "source": [
        "#calculate cosine similarity,sort by most similar and return the top N\n",
        "def similar(ratingData,movie_id,top_n = 10):\n",
        "  index  = movie_id -1 #movie id starts from 1\n",
        "  movie_row = ratingData[index, :]\n",
        "  magnitude = np.sqrt(np.einsum('ij,ij->i',ratingData,ratingData)) #einstein summation |traditional matrix multiplication and is equivalent to np.matmul(a,b)\n",
        "  similarity = np.dot(movie_row,ratingData.T)/(magnitude[index]* magnitude)\n",
        "  sort_indexes = np.argsort(-similarity)#perform an indirect sort along the given axis (last axis)\n",
        "  return sort_indexes[:top_n]"
      ],
      "metadata": {
        "id": "zdbk0oJQah1q"
      },
      "execution_count": 32,
      "outputs": []
    },
    {
      "cell_type": "code",
      "source": [
        "#select k principal components and a movie_id to represent recomendedations and print top_n list\n",
        "\n",
        "k = 50\n",
        "movie_id = 2\n",
        "top_n = 5\n",
        "\n",
        "sliced = V.T[:, :k] #representative data\n",
        "indexes = similar(sliced,movie_id,top_n)\n",
        "\n",
        "print('Recommendations for movie {0}: \\n'.format(\n",
        "    movieData[movieData.movie_id == movie_id].title.values[0]))\n",
        "for id in indexes + 1:\n",
        "  print(movieData[movieData.movie_id == id].title.values[0])\n"
      ],
      "metadata": {
        "colab": {
          "base_uri": "https://localhost:8080/"
        },
        "id": "cCJRXwEtgCWg",
        "outputId": "b53073d6-f428-4546-a1ab-79355f96c32f"
      },
      "execution_count": 35,
      "outputs": [
        {
          "output_type": "stream",
          "name": "stdout",
          "text": [
            "Recommendations for movie Jumanji (1995): \n",
            "\n",
            "Jumanji (1995)\n",
            "Toy Story (1995)\n",
            "Happy Gilmore (1996)\n",
            "Tombstone (1993)\n",
            "Grumpier Old Men (1995)\n"
          ]
        },
        {
          "output_type": "stream",
          "name": "stderr",
          "text": [
            "/usr/local/lib/python3.7/dist-packages/ipykernel_launcher.py:6: RuntimeWarning: invalid value encountered in true_divide\n",
            "  \n"
          ]
        }
      ]
    },
    {
      "cell_type": "code",
      "source": [
        ""
      ],
      "metadata": {
        "id": "6lotLn3ais41"
      },
      "execution_count": null,
      "outputs": []
    }
  ]
}