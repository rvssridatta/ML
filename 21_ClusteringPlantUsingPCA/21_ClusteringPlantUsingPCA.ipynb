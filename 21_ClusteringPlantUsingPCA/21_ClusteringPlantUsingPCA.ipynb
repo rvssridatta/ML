{
  "nbformat": 4,
  "nbformat_minor": 0,
  "metadata": {
    "colab": {
      "name": "21_ClusteringPlantUsingPCA.ipynb",
      "provenance": [],
      "authorship_tag": "ABX9TyNcFXtwZQI348CVrA9406wn",
      "include_colab_link": true
    },
    "kernelspec": {
      "name": "python3",
      "display_name": "Python 3"
    },
    "language_info": {
      "name": "python"
    }
  },
  "cells": [
    {
      "cell_type": "markdown",
      "metadata": {
        "id": "view-in-github",
        "colab_type": "text"
      },
      "source": [
        "<a href=\"https://colab.research.google.com/github/rvssridatta/ML/blob/main/21_ClusteringPlantUsingPCA/21_ClusteringPlantUsingPCA.ipynb\" target=\"_parent\"><img src=\"https://colab.research.google.com/assets/colab-badge.svg\" alt=\"Open In Colab\"/></a>"
      ]
    },
    {
      "cell_type": "code",
      "execution_count": 1,
      "metadata": {
        "id": "ACLA-IYY6REy"
      },
      "outputs": [],
      "source": [
        "from sklearn import datasets\n",
        "import matplotlib.pyplot as plt\n"
      ]
    },
    {
      "cell_type": "code",
      "source": [
        "dataset = datasets.load_iris()\n"
      ],
      "metadata": {
        "id": "Tvlq-6a_6lYa"
      },
      "execution_count": 2,
      "outputs": []
    },
    {
      "cell_type": "code",
      "source": [
        "#dataset Segregation\n",
        "\n",
        "X = dataset.data\n",
        "y = dataset.target\n",
        "names = dataset.target_names"
      ],
      "metadata": {
        "id": "iMdZ20KC7cbV"
      },
      "execution_count": 4,
      "outputs": []
    },
    {
      "cell_type": "code",
      "source": [
        "#fitting the pcs clustering to dataset for n = 2\n",
        "\n",
        "from sklearn.decomposition import PCA\n",
        "model = PCA(n_components = 2) #num of components to keep\n",
        "y_means = model.fit(X).transform(X)\n"
      ],
      "metadata": {
        "id": "y8I2jnHq7keh"
      },
      "execution_count": 5,
      "outputs": []
    },
    {
      "cell_type": "code",
      "source": [
        "#variance graph\n",
        "\n",
        "plt.figure()\n",
        "colors = ['red','green','orange']\n",
        "\n",
        "for color ,i , target_name in zip(colors,[0,1,2],names):\n",
        "  plt.scatter(y_means[y==i,0],y_means[y==i,1],color = color,lw=2,label =target_name)\n",
        "plt.title('IRIS Clusterring')\n",
        "plt.show()"
      ],
      "metadata": {
        "colab": {
          "base_uri": "https://localhost:8080/",
          "height": 281
        },
        "id": "X2eQymeU8WSH",
        "outputId": "8317829c-fabd-4300-a61f-378757408036"
      },
      "execution_count": 6,
      "outputs": [
        {
          "output_type": "display_data",
          "data": {
            "text/plain": [
              "<Figure size 432x288 with 1 Axes>"
            ],
            "image/png": "[encoded data removed]"
          },
          "metadata": {
            "needs_background": "light"
          }
        }
      ]
    },
    {
      "cell_type": "code",
      "source": [
        ""
      ],
      "metadata": {
        "id": "s3LszEI8-J-X"
      },
      "execution_count": null,
      "outputs": []
    }
  ]
}